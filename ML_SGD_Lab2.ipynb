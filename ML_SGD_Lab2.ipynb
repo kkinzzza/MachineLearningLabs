{
  "cells": [
    {
      "cell_type": "markdown",
      "metadata": {
        "id": "dC0b2KxxvlWW"
      },
      "source": [
        "# **Лабораторная работа 2:** применение SGD"
      ]
    },
    {
      "cell_type": "markdown",
      "metadata": {
        "id": "QGjlXS5jx96A"
      },
      "source": [
        "Импортируем необходимые библиотеки:"
      ]
    },
    {
      "cell_type": "code",
      "execution_count": 22,
      "metadata": {
        "id": "7j0fTRmy1SpY"
      },
      "outputs": [],
      "source": [
        "from sklearn.linear_model import SGDRegressor, SGDClassifier\n",
        "from sklearn.model_selection import GridSearchCV\n",
        "from sklearn.metrics import mean_absolute_error as mae\n",
        "from sklearn.metrics import accuracy_score\n",
        "from sklearn.model_selection import train_test_split, cross_val_score\n",
        "import pandas as pd\n",
        "import seaborn as sns\n",
        "import numpy as np\n",
        "import matplotlib.pyplot as plt"
      ]
    },
    {
      "cell_type": "markdown",
      "metadata": {
        "id": "6Dd7kKdNCws4"
      },
      "source": [
        "## **Математическая мотивировка**"
      ]
    },
    {
      "cell_type": "markdown",
      "metadata": {
        "id": "eiiMrLr5C2Tt"
      },
      "source": [
        "Модель стохастического градиентного спуска имеет следующий математический вид:\n",
        "\n",
        "Дано $n$ обучающих пар $(x_1, y_1), \\ \\ldots (x_n, y_n)$, $x_i \\in \\mathbb{R}^m, \\ y_i \\in \\mathbb{R}$. Цель обучения – выучить линейную функцию вида $$y = w^Tx + b, \\ w \\in \\mathbb{R}^m, \\ b \\in \\mathbb{R}.$$\n",
        "\n",
        "Суть метода заключается в минимизации регуляризованной ошибки обучения вида $$E(w, b) = \\displaystyle \\frac{1}{n} \\sum_{i=1}^n L(y_i, f(x_i)) + \\alpha R(w),$$\n",
        "\n",
        "$L$ – функция потерь (loss), $R$ – член регуляризации (штраф), $\\alpha$ – коэффициент силы регуляризации.\n",
        "\n",
        "Веса обновляются по формуле $$w_{t+1} = w_t - \\eta \\cdot (\\nabla L(w_t) + \\alpha \\nabla R(w_t)),$$\n",
        "\n",
        "где $\\eta$ – скорость обучения (learning rate)."
      ]
    },
    {
      "cell_type": "markdown",
      "metadata": {
        "id": "9ALiIWcsV7zB"
      },
      "source": [
        "## **Модель линейной регрессии SGDRegressor**"
      ]
    },
    {
      "cell_type": "markdown",
      "metadata": {
        "id": "m3XrTnGoXowg"
      },
      "source": [
        "Загрузим данные для линейной регрессии из датасета `advertising_updated.csv`,который уже подвергся препроцессингу:"
      ]
    },
    {
      "cell_type": "code",
      "execution_count": 2,
      "metadata": {
        "colab": {
          "base_uri": "https://localhost:8080/",
          "height": 221
        },
        "id": "t1YUpk2lt4bF",
        "outputId": "b1326883-1fb9-429a-a034-da6050ce2dac"
      },
      "outputs": [
        {
          "data": {
            "text/html": [
              "<div>\n",
              "<style scoped>\n",
              "    .dataframe tbody tr th:only-of-type {\n",
              "        vertical-align: middle;\n",
              "    }\n",
              "\n",
              "    .dataframe tbody tr th {\n",
              "        vertical-align: top;\n",
              "    }\n",
              "\n",
              "    .dataframe thead th {\n",
              "        text-align: right;\n",
              "    }\n",
              "</style>\n",
              "<table border=\"1\" class=\"dataframe\">\n",
              "  <thead>\n",
              "    <tr style=\"text-align: right;\">\n",
              "      <th></th>\n",
              "      <th>TV_scaled</th>\n",
              "      <th>radio_scaled</th>\n",
              "      <th>total_intersections_scaled</th>\n",
              "      <th>total_spent_scaled</th>\n",
              "      <th>TV^2_scaled</th>\n",
              "      <th>TV/radio_scaled</th>\n",
              "      <th>TV/newspaper_scaled</th>\n",
              "      <th>radio^2_scaled</th>\n",
              "      <th>radio/newspaper_scaled</th>\n",
              "      <th>TV_YJ_transformed</th>\n",
              "      <th>radio_YJ_transformed</th>\n",
              "      <th>total_intersections_YJ_transformed</th>\n",
              "      <th>total_spent_YJ_transformed</th>\n",
              "      <th>TV^2_YJ_transformed</th>\n",
              "      <th>TV/radio_YJ_transformed</th>\n",
              "      <th>TV/newspaper_YJ_transformed</th>\n",
              "      <th>radio^2_YJ_transformed</th>\n",
              "      <th>radio/newspaper_YJ_transformed</th>\n",
              "      <th>sales</th>\n",
              "    </tr>\n",
              "  </thead>\n",
              "  <tbody>\n",
              "    <tr>\n",
              "      <th>0</th>\n",
              "      <td>0.969852</td>\n",
              "      <td>0.981522</td>\n",
              "      <td>2.596654</td>\n",
              "      <td>1.468851</td>\n",
              "      <td>0.940748</td>\n",
              "      <td>1.553389</td>\n",
              "      <td>2.330912</td>\n",
              "      <td>0.910534</td>\n",
              "      <td>1.914570</td>\n",
              "      <td>0.948674</td>\n",
              "      <td>0.962247</td>\n",
              "      <td>1.772062</td>\n",
              "      <td>1.401348</td>\n",
              "      <td>0.947699</td>\n",
              "      <td>1.328881</td>\n",
              "      <td>1.723421</td>\n",
              "      <td>0.960382</td>\n",
              "      <td>1.487903</td>\n",
              "      <td>22.1</td>\n",
              "    </tr>\n",
              "    <tr>\n",
              "      <th>1</th>\n",
              "      <td>-1.197376</td>\n",
              "      <td>1.082808</td>\n",
              "      <td>-0.251005</td>\n",
              "      <td>-0.775834</td>\n",
              "      <td>-1.057797</td>\n",
              "      <td>-0.519478</td>\n",
              "      <td>-0.533326</td>\n",
              "      <td>1.068102</td>\n",
              "      <td>1.013068</td>\n",
              "      <td>-1.191314</td>\n",
              "      <td>1.040179</td>\n",
              "      <td>0.289415</td>\n",
              "      <td>-0.735239</td>\n",
              "      <td>-1.190026</td>\n",
              "      <td>-0.200907</td>\n",
              "      <td>-0.285206</td>\n",
              "      <td>1.036827</td>\n",
              "      <td>1.123453</td>\n",
              "      <td>10.4</td>\n",
              "    </tr>\n",
              "    <tr>\n",
              "      <th>2</th>\n",
              "      <td>-1.516155</td>\n",
              "      <td>1.528463</td>\n",
              "      <td>-0.382561</td>\n",
              "      <td>-0.738099</td>\n",
              "      <td>-1.123849</td>\n",
              "      <td>-0.805658</td>\n",
              "      <td>-0.701070</td>\n",
              "      <td>1.834242</td>\n",
              "      <td>2.518661</td>\n",
              "      <td>-1.647757</td>\n",
              "      <td>1.370710</td>\n",
              "      <td>0.070170</td>\n",
              "      <td>-0.694548</td>\n",
              "      <td>-1.651777</td>\n",
              "      <td>-0.731909</td>\n",
              "      <td>-0.648552</td>\n",
              "      <td>1.360369</td>\n",
              "      <td>1.681129</td>\n",
              "      <td>9.3</td>\n",
              "    </tr>\n",
              "    <tr>\n",
              "      <th>3</th>\n",
              "      <td>0.052050</td>\n",
              "      <td>1.217855</td>\n",
              "      <td>1.312491</td>\n",
              "      <td>0.543808</td>\n",
              "      <td>-0.235412</td>\n",
              "      <td>0.825289</td>\n",
              "      <td>0.877761</td>\n",
              "      <td>1.287731</td>\n",
              "      <td>1.701084</td>\n",
              "      <td>0.141020</td>\n",
              "      <td>1.142387</td>\n",
              "      <td>1.363401</td>\n",
              "      <td>0.575267</td>\n",
              "      <td>0.143474</td>\n",
              "      <td>0.953953</td>\n",
              "      <td>1.047836</td>\n",
              "      <td>1.136989</td>\n",
              "      <td>1.411404</td>\n",
              "      <td>18.5</td>\n",
              "    </tr>\n",
              "    <tr>\n",
              "      <th>4</th>\n",
              "      <td>0.394182</td>\n",
              "      <td>-0.841614</td>\n",
              "      <td>-0.059563</td>\n",
              "      <td>0.529792</td>\n",
              "      <td>0.146386</td>\n",
              "      <td>-0.458687</td>\n",
              "      <td>1.226832</td>\n",
              "      <td>-0.877288</td>\n",
              "      <td>-0.207396</td>\n",
              "      <td>0.452715</td>\n",
              "      <td>-0.748651</td>\n",
              "      <td>0.523789</td>\n",
              "      <td>0.562286</td>\n",
              "      <td>0.454091</td>\n",
              "      <td>-0.117112</td>\n",
              "      <td>1.239616</td>\n",
              "      <td>-0.742218</td>\n",
              "      <td>0.273381</td>\n",
              "      <td>12.9</td>\n",
              "    </tr>\n",
              "    <tr>\n",
              "      <th>...</th>\n",
              "      <td>...</td>\n",
              "      <td>...</td>\n",
              "      <td>...</td>\n",
              "      <td>...</td>\n",
              "      <td>...</td>\n",
              "      <td>...</td>\n",
              "      <td>...</td>\n",
              "      <td>...</td>\n",
              "      <td>...</td>\n",
              "      <td>...</td>\n",
              "      <td>...</td>\n",
              "      <td>...</td>\n",
              "      <td>...</td>\n",
              "      <td>...</td>\n",
              "      <td>...</td>\n",
              "      <td>...</td>\n",
              "      <td>...</td>\n",
              "      <td>...</td>\n",
              "      <td>...</td>\n",
              "    </tr>\n",
              "    <tr>\n",
              "      <th>188</th>\n",
              "      <td>0.031031</td>\n",
              "      <td>0.832971</td>\n",
              "      <td>-0.506347</td>\n",
              "      <td>-0.103075</td>\n",
              "      <td>-0.256672</td>\n",
              "      <td>0.548577</td>\n",
              "      <td>-0.761533</td>\n",
              "      <td>0.690524</td>\n",
              "      <td>-0.653288</td>\n",
              "      <td>0.121376</td>\n",
              "      <td>0.845832</td>\n",
              "      <td>-0.229324</td>\n",
              "      <td>-0.042100</td>\n",
              "      <td>0.123886</td>\n",
              "      <td>0.783917</td>\n",
              "      <td>-0.827148</td>\n",
              "      <td>0.846063</td>\n",
              "      <td>-0.459484</td>\n",
              "      <td>17.3</td>\n",
              "    </tr>\n",
              "    <tr>\n",
              "      <th>189</th>\n",
              "      <td>-1.270941</td>\n",
              "      <td>-1.321031</td>\n",
              "      <td>-0.669827</td>\n",
              "      <td>-1.565032</td>\n",
              "      <td>-1.078228</td>\n",
              "      <td>-0.998998</td>\n",
              "      <td>-0.837902</td>\n",
              "      <td>-1.017553</td>\n",
              "      <td>-0.827040</td>\n",
              "      <td>-1.287908</td>\n",
              "      <td>-1.431436</td>\n",
              "      <td>-1.432687</td>\n",
              "      <td>-1.665173</td>\n",
              "      <td>-1.287349</td>\n",
              "      <td>-1.533475</td>\n",
              "      <td>-1.131377</td>\n",
              "      <td>-1.446653</td>\n",
              "      <td>-1.225311</td>\n",
              "      <td>7.6</td>\n",
              "    </tr>\n",
              "    <tr>\n",
              "      <th>190</th>\n",
              "      <td>-0.617035</td>\n",
              "      <td>-1.240003</td>\n",
              "      <td>-0.660090</td>\n",
              "      <td>-1.009790</td>\n",
              "      <td>-0.787483</td>\n",
              "      <td>-0.903471</td>\n",
              "      <td>-0.789356</td>\n",
              "      <td>-1.003493</td>\n",
              "      <td>-0.839194</td>\n",
              "      <td>-0.520949</td>\n",
              "      <td>-1.297017</td>\n",
              "      <td>-1.198884</td>\n",
              "      <td>-0.993652</td>\n",
              "      <td>-0.517571</td>\n",
              "      <td>-1.026553</td>\n",
              "      <td>-0.924562</td>\n",
              "      <td>-1.306279</td>\n",
              "      <td>-1.339412</td>\n",
              "      <td>9.7</td>\n",
              "    </tr>\n",
              "    <tr>\n",
              "      <th>191</th>\n",
              "      <td>0.349810</td>\n",
              "      <td>-0.942899</td>\n",
              "      <td>-0.623086</td>\n",
              "      <td>-0.087982</td>\n",
              "      <td>0.093070</td>\n",
              "      <td>-0.550128</td>\n",
              "      <td>-0.713247</td>\n",
              "      <td>-0.918366</td>\n",
              "      <td>-0.817996</td>\n",
              "      <td>0.413091</td>\n",
              "      <td>-0.875492</td>\n",
              "      <td>-0.772387</td>\n",
              "      <td>-0.027222</td>\n",
              "      <td>0.414623</td>\n",
              "      <td>-0.245805</td>\n",
              "      <td>-0.681610</td>\n",
              "      <td>-0.871443</td>\n",
              "      <td>-1.153008</td>\n",
              "      <td>12.8</td>\n",
              "    </tr>\n",
              "    <tr>\n",
              "      <th>192</th>\n",
              "      <td>0.993206</td>\n",
              "      <td>-0.990165</td>\n",
              "      <td>-0.585895</td>\n",
              "      <td>0.523323</td>\n",
              "      <td>0.976997</td>\n",
              "      <td>-0.445735</td>\n",
              "      <td>-0.530790</td>\n",
              "      <td>-0.935438</td>\n",
              "      <td>-0.801641</td>\n",
              "      <td>0.968161</td>\n",
              "      <td>-0.937083</td>\n",
              "      <td>-0.539851</td>\n",
              "      <td>0.556290</td>\n",
              "      <td>0.967080</td>\n",
              "      <td>-0.100068</td>\n",
              "      <td>-0.280655</td>\n",
              "      <td>-0.934440</td>\n",
              "      <td>-1.040988</td>\n",
              "      <td>13.4</td>\n",
              "    </tr>\n",
              "  </tbody>\n",
              "</table>\n",
              "<p>193 rows × 19 columns</p>\n",
              "</div>"
            ],
            "text/plain": [
              "     TV_scaled  radio_scaled  total_intersections_scaled  total_spent_scaled  \\\n",
              "0     0.969852      0.981522                    2.596654            1.468851   \n",
              "1    -1.197376      1.082808                   -0.251005           -0.775834   \n",
              "2    -1.516155      1.528463                   -0.382561           -0.738099   \n",
              "3     0.052050      1.217855                    1.312491            0.543808   \n",
              "4     0.394182     -0.841614                   -0.059563            0.529792   \n",
              "..         ...           ...                         ...                 ...   \n",
              "188   0.031031      0.832971                   -0.506347           -0.103075   \n",
              "189  -1.270941     -1.321031                   -0.669827           -1.565032   \n",
              "190  -0.617035     -1.240003                   -0.660090           -1.009790   \n",
              "191   0.349810     -0.942899                   -0.623086           -0.087982   \n",
              "192   0.993206     -0.990165                   -0.585895            0.523323   \n",
              "\n",
              "     TV^2_scaled  TV/radio_scaled  TV/newspaper_scaled  radio^2_scaled  \\\n",
              "0       0.940748         1.553389             2.330912        0.910534   \n",
              "1      -1.057797        -0.519478            -0.533326        1.068102   \n",
              "2      -1.123849        -0.805658            -0.701070        1.834242   \n",
              "3      -0.235412         0.825289             0.877761        1.287731   \n",
              "4       0.146386        -0.458687             1.226832       -0.877288   \n",
              "..           ...              ...                  ...             ...   \n",
              "188    -0.256672         0.548577            -0.761533        0.690524   \n",
              "189    -1.078228        -0.998998            -0.837902       -1.017553   \n",
              "190    -0.787483        -0.903471            -0.789356       -1.003493   \n",
              "191     0.093070        -0.550128            -0.713247       -0.918366   \n",
              "192     0.976997        -0.445735            -0.530790       -0.935438   \n",
              "\n",
              "     radio/newspaper_scaled  TV_YJ_transformed  radio_YJ_transformed  \\\n",
              "0                  1.914570           0.948674              0.962247   \n",
              "1                  1.013068          -1.191314              1.040179   \n",
              "2                  2.518661          -1.647757              1.370710   \n",
              "3                  1.701084           0.141020              1.142387   \n",
              "4                 -0.207396           0.452715             -0.748651   \n",
              "..                      ...                ...                   ...   \n",
              "188               -0.653288           0.121376              0.845832   \n",
              "189               -0.827040          -1.287908             -1.431436   \n",
              "190               -0.839194          -0.520949             -1.297017   \n",
              "191               -0.817996           0.413091             -0.875492   \n",
              "192               -0.801641           0.968161             -0.937083   \n",
              "\n",
              "     total_intersections_YJ_transformed  total_spent_YJ_transformed  \\\n",
              "0                              1.772062                    1.401348   \n",
              "1                              0.289415                   -0.735239   \n",
              "2                              0.070170                   -0.694548   \n",
              "3                              1.363401                    0.575267   \n",
              "4                              0.523789                    0.562286   \n",
              "..                                  ...                         ...   \n",
              "188                           -0.229324                   -0.042100   \n",
              "189                           -1.432687                   -1.665173   \n",
              "190                           -1.198884                   -0.993652   \n",
              "191                           -0.772387                   -0.027222   \n",
              "192                           -0.539851                    0.556290   \n",
              "\n",
              "     TV^2_YJ_transformed  TV/radio_YJ_transformed  \\\n",
              "0               0.947699                 1.328881   \n",
              "1              -1.190026                -0.200907   \n",
              "2              -1.651777                -0.731909   \n",
              "3               0.143474                 0.953953   \n",
              "4               0.454091                -0.117112   \n",
              "..                   ...                      ...   \n",
              "188             0.123886                 0.783917   \n",
              "189            -1.287349                -1.533475   \n",
              "190            -0.517571                -1.026553   \n",
              "191             0.414623                -0.245805   \n",
              "192             0.967080                -0.100068   \n",
              "\n",
              "     TV/newspaper_YJ_transformed  radio^2_YJ_transformed  \\\n",
              "0                       1.723421                0.960382   \n",
              "1                      -0.285206                1.036827   \n",
              "2                      -0.648552                1.360369   \n",
              "3                       1.047836                1.136989   \n",
              "4                       1.239616               -0.742218   \n",
              "..                           ...                     ...   \n",
              "188                    -0.827148                0.846063   \n",
              "189                    -1.131377               -1.446653   \n",
              "190                    -0.924562               -1.306279   \n",
              "191                    -0.681610               -0.871443   \n",
              "192                    -0.280655               -0.934440   \n",
              "\n",
              "     radio/newspaper_YJ_transformed  sales  \n",
              "0                          1.487903   22.1  \n",
              "1                          1.123453   10.4  \n",
              "2                          1.681129    9.3  \n",
              "3                          1.411404   18.5  \n",
              "4                          0.273381   12.9  \n",
              "..                              ...    ...  \n",
              "188                       -0.459484   17.3  \n",
              "189                       -1.225311    7.6  \n",
              "190                       -1.339412    9.7  \n",
              "191                       -1.153008   12.8  \n",
              "192                       -1.040988   13.4  \n",
              "\n",
              "[193 rows x 19 columns]"
            ]
          },
          "execution_count": 2,
          "metadata": {},
          "output_type": "execute_result"
        }
      ],
      "source": [
        "reg_data = pd.read_csv('advertising_updated.csv')\n",
        "reg_data"
      ]
    },
    {
      "cell_type": "markdown",
      "metadata": {
        "id": "1K7zo1SzZoId"
      },
      "source": [
        "Рассмотрим различный набор параметров:\n",
        "\n",
        "\n",
        "*   `loss` -  функция потерь, которая определяет, как модель оценивает ошибку:\n",
        "    \n",
        "    ***squared_error***: используется, когда выбросов мало;\n",
        "\n",
        "    ***huber***: устойчив к выбросам, полезен для шумных данных;\n",
        "\n",
        "    ***epsilon_insensitive***: игнорирует малые отклонения в данных;\n",
        "\n",
        "*   `penalty` - тип регуляризации, добавляемой к модели для предотвращения переобучения:\n",
        "\n",
        "    **l2** : Ридж-регуляризация (сумма квадратов коэффициентов). Хорошо работает при наличии многих небольших признаков;\n",
        "\n",
        "    **l1** :  Лассо-регуляризация (сумма модулей коэффициентов). Полезно для отбора признаков, так как обращает в ноль незначимые признаки;\n",
        "\n",
        "    **elasticnet** : комбинация L1 и L2 регуляризаций."
      ]
    },
    {
      "cell_type": "code",
      "execution_count": 3,
      "metadata": {
        "id": "xEY38Gz91HnT"
      },
      "outputs": [],
      "source": [
        "X_reg = reg_data.loc[:, reg_data.columns != 'sales']\n",
        "y_reg = reg_data['sales']\n",
        "\n",
        "param_grid_reg = {\n",
        "    'loss': ['squared_error', 'huber', 'epsilon_insensitive'],\n",
        "    'penalty': ['l1', 'l2', 'elasticnet'],\n",
        "}"
      ]
    },
    {
      "cell_type": "markdown",
      "metadata": {
        "id": "r_55ei-KdNfO"
      },
      "source": [
        "Разобьем данные из датасета на обучающую и тестовую выборки (в нашем случае в соотношении 80% / 20%):\n"
      ]
    },
    {
      "cell_type": "code",
      "execution_count": 4,
      "metadata": {
        "id": "VETwIbn91J5E"
      },
      "outputs": [],
      "source": [
        "X_reg_train, X_reg_test, y_reg_train, y_reg_test = train_test_split(X_reg, y_reg, test_size=0.2, random_state=42)"
      ]
    },
    {
      "cell_type": "markdown",
      "metadata": {
        "id": "pHWm7kzad024"
      },
      "source": [
        "Используя GridSearchCV, определяем лучший набор гиперпараметров для модели регрессии:"
      ]
    },
    {
      "cell_type": "code",
      "execution_count": 5,
      "metadata": {
        "colab": {
          "base_uri": "https://localhost:8080/"
        },
        "id": "b1_iIyS22fM_",
        "outputId": "4c9d70c1-2ecc-41b4-bbad-8c24cb32a779"
      },
      "outputs": [
        {
          "name": "stdout",
          "output_type": "stream",
          "text": [
            "Лучшие параметры для регрессии: {'loss': 'epsilon_insensitive', 'penalty': 'l2'}\n"
          ]
        }
      ],
      "source": [
        "sgd_reg = SGDRegressor(random_state=42)\n",
        "grid_search_reg = GridSearchCV(sgd_reg, param_grid_reg)\n",
        "grid_search_reg.fit(X_reg_train, y_reg_train)\n",
        "\n",
        "# Лучшие параметры\n",
        "print(\"Лучшие параметры для регрессии:\", grid_search_reg.best_params_)"
      ]
    },
    {
      "cell_type": "code",
      "execution_count": 9,
      "metadata": {
        "colab": {
          "base_uri": "https://localhost:8080/"
        },
        "id": "MydMiExwJGgc",
        "outputId": "080ed1ae-d401-4cf1-a154-430fc4e7f8ba"
      },
      "outputs": [
        {
          "name": "stdout",
          "output_type": "stream",
          "text": [
            "Средняя абсолютная ошибка (MAE) на тестовой выборке: 0.287\n"
          ]
        }
      ],
      "source": [
        "best_regressor = grid_search_reg.best_estimator_\n",
        "y_ad_pred = best_regressor.predict(X_reg_test)\n",
        "error = mae(y_reg_test, y_ad_pred)\n",
        "print(\"Средняя абсолютная ошибка (MAE) на тестовой выборке:\", round(error, 3))"
      ]
    },
    {
      "cell_type": "markdown",
      "metadata": {
        "id": "vHTaQOttuWJi"
      },
      "source": [
        "Сравним различные архетектуры линейной регрессионной модели:"
      ]
    },
    {
      "cell_type": "code",
      "execution_count": 10,
      "metadata": {
        "colab": {
          "base_uri": "https://localhost:8080/"
        },
        "id": "IY8IIMlvgPzC",
        "outputId": "f92b0729-e4d2-456b-a692-9c153122e691"
      },
      "outputs": [
        {
          "name": "stdout",
          "output_type": "stream",
          "text": [
            "     Type Architecture  Train MAE  Test MAE\n",
            "0    best       Arch 1      0.336     0.287\n",
            "1  middle       Arch 2      0.350     0.295\n",
            "2   worst       Arch 3      9.950    11.398\n"
          ]
        }
      ],
      "source": [
        "# Определение трех различных архитектур SGDRegressor\n",
        "architectures = [\n",
        "    {\"type\":\"best\", \"par\":{**grid_search_reg.best_params_}},  # Лучшая\n",
        "    {\"type\":\"middle\", \"par\":{\"loss\": \"squared_error\", \"penalty\": \"l1\"}}, # Средняя\n",
        "    {\"type\":\"worst\",\"par\":{\"loss\": \"huber\", \"penalty\": \"l1\"}}   # Плохая\n",
        "]\n",
        "\n",
        "results = {\"Type\":[], \"Architecture\": [], \"Train MAE\": [], \"Test MAE\": []}\n",
        "\n",
        "for idx, params in enumerate(architectures, 1):\n",
        "    model = SGDRegressor(**params['par'], random_state=42)\n",
        "    model.fit(X_reg_train, y_reg_train)\n",
        "\n",
        "    y_train_pred = model.predict(X_reg_train)\n",
        "    train_mae = mae(y_reg_train, y_train_pred)\n",
        "\n",
        "    y_test_pred = model.predict(X_reg_test)\n",
        "    test_mae = mae(y_reg_test, y_test_pred)\n",
        "\n",
        "    results[\"Type\"].append(params['type'])\n",
        "    results[\"Architecture\"].append(f\"Arch {idx}\")\n",
        "    results[\"Train MAE\"].append(round(train_mae, 3))\n",
        "    results[\"Test MAE\"].append(round(test_mae, 3))\n",
        "\n",
        "print(pd.DataFrame(results))"
      ]
    },
    {
      "cell_type": "code",
      "execution_count": 14,
      "metadata": {
        "colab": {
          "base_uri": "https://localhost:8080/",
          "height": 504
        },
        "id": "LvE78BGWS_jB",
        "outputId": "434e213f-fea5-4369-8b2d-ae0dd0cd9e3a"
      },
      "outputs": [
        {
          "data": {
            "image/png": "[encoded data removed]",
            "text/plain": [
              "<Figure size 640x480 with 1 Axes>"
            ]
          },
          "metadata": {},
          "output_type": "display_data"
        },
        {
          "name": "stdout",
          "output_type": "stream",
          "text": [
            "Средняя абсолютная ошибка (MAE) на тестовой выборке: 0.2893\n"
          ]
        },
        {
          "name": "stderr",
          "output_type": "stream",
          "text": [
            "/Users/djinja/Desktop/ML/.venv/lib/python3.10/site-packages/sklearn/utils/validation.py:2732: UserWarning: X has feature names, but SGDRegressor was fitted without feature names\n",
            "  warnings.warn(\n"
          ]
        }
      ],
      "source": [
        "sgd_reg_partial = SGDRegressor(**grid_search_reg.best_params_, random_state=42)\n",
        "\n",
        "batch_size = 64\n",
        "n_epochs = 300\n",
        "\n",
        "X_reg_train_np = np.array(X_reg_train)\n",
        "y_reg_train_np = np.array(y_reg_train)\n",
        "\n",
        "error = []\n",
        "for epoch in range(n_epochs):\n",
        "    indices = np.arange(len(X_reg_train_np))\n",
        "    np.random.shuffle(indices)\n",
        "    X_reg_train_np = X_reg_train_np[indices]\n",
        "    y_reg_train_np = y_reg_train_np[indices]\n",
        "\n",
        "    for i in range(0, len(X_reg_train_np), batch_size):\n",
        "        X_batch = X_reg_train_np[i:i + batch_size]\n",
        "        y_batch = y_reg_train_np[i:i + batch_size]\n",
        "        sgd_reg_partial.partial_fit(X_batch, y_batch)\n",
        "\n",
        "    y_train_pred = sgd_reg_partial.predict(X_reg_train_np)\n",
        "    train_mae = mae(y_reg_train_np, y_train_pred)\n",
        "    error.append(train_mae)\n",
        "\n",
        "plt.plot(error, color = \"#310062\")\n",
        "plt.xlabel(\"Epoch\")\n",
        "plt.ylabel(\"MAE\")\n",
        "plt.grid()\n",
        "plt.ylim(0.25, 1)\n",
        "plt.show()\n",
        "\n",
        "y_ad_test_pred = sgd_reg_partial.predict(X_reg_test)\n",
        "test_mae = mae(y_reg_test, y_ad_test_pred)\n",
        "print(f\"Средняя абсолютная ошибка (MAE) на тестовой выборке: {test_mae:.4f}\")"
      ]
    },
    {
      "cell_type": "markdown",
      "metadata": {
        "id": "Y3YyShiVwNjI"
      },
      "source": [
        "### Выводы"
      ]
    },
    {
      "cell_type": "markdown",
      "metadata": {},
      "source": [
        "\n",
        "Как видно из сравнения разных архитектур, результаты могут значительно меняться от разных гиперпараметров модели, таких как функция потерь и регуляризация. \n",
        "\n",
        "Существует влияние обучения по минибатчам: разбивка данных на небольшие порции для последовательного обновления модели позволяет не только повысить точность, но и ускорить процесс обучения."
      ]
    },
    {
      "cell_type": "markdown",
      "metadata": {
        "id": "ZNkihLNrWEx6"
      },
      "source": [
        "## **Модель линейной классификации SGDClassifier**"
      ]
    },
    {
      "cell_type": "markdown",
      "metadata": {
        "id": "qESFMSvALgVW"
      },
      "source": [
        "Загрузим датасет для классификации `heart_updated.csv`, получившийся в ходе выполнения предыдущей лабораторной работы, и выполним аналогичные действия:"
      ]
    },
    {
      "cell_type": "code",
      "execution_count": 15,
      "metadata": {
        "colab": {
          "base_uri": "https://localhost:8080/",
          "height": 249
        },
        "id": "x5pUhep0z4mT",
        "outputId": "395a8e60-6209-434e-dd5e-3f921b2b7164"
      },
      "outputs": [
        {
          "data": {
            "text/html": [
              "<div>\n",
              "<style scoped>\n",
              "    .dataframe tbody tr th:only-of-type {\n",
              "        vertical-align: middle;\n",
              "    }\n",
              "\n",
              "    .dataframe tbody tr th {\n",
              "        vertical-align: top;\n",
              "    }\n",
              "\n",
              "    .dataframe thead th {\n",
              "        text-align: right;\n",
              "    }\n",
              "</style>\n",
              "<table border=\"1\" class=\"dataframe\">\n",
              "  <thead>\n",
              "    <tr style=\"text-align: right;\">\n",
              "      <th></th>\n",
              "      <th>age_scaled</th>\n",
              "      <th>sex_scaled</th>\n",
              "      <th>cp_scaled</th>\n",
              "      <th>trestbps_scaled</th>\n",
              "      <th>thalach_scaled</th>\n",
              "      <th>exang_scaled</th>\n",
              "      <th>oldpeak_scaled</th>\n",
              "      <th>slope_scaled</th>\n",
              "      <th>ca_scaled</th>\n",
              "      <th>thal_scaled</th>\n",
              "      <th>...</th>\n",
              "      <th>thal_YJ_transformed</th>\n",
              "      <th>cp/thalach_YJ_transformed</th>\n",
              "      <th>oldpeak/slope_YJ_transformed</th>\n",
              "      <th>exang/thal_YJ_transformed</th>\n",
              "      <th>ca/oldpeak_YJ_transformed</th>\n",
              "      <th>thalach/oldpeak/slope_YJ_transformed</th>\n",
              "      <th>log_age_YJ_transformed</th>\n",
              "      <th>log_trestbps_YJ_transformed</th>\n",
              "      <th>log_thalach_YJ_transformed</th>\n",
              "      <th>target</th>\n",
              "    </tr>\n",
              "  </thead>\n",
              "  <tbody>\n",
              "    <tr>\n",
              "      <th>0</th>\n",
              "      <td>0.952197</td>\n",
              "      <td>0.681005</td>\n",
              "      <td>1.973123</td>\n",
              "      <td>0.763956</td>\n",
              "      <td>0.015443</td>\n",
              "      <td>-0.696631</td>\n",
              "      <td>1.087338</td>\n",
              "      <td>-2.274579</td>\n",
              "      <td>-0.714429</td>\n",
              "      <td>-2.148873</td>\n",
              "      <td>...</td>\n",
              "      <td>-1.946718</td>\n",
              "      <td>1.147413</td>\n",
              "      <td>-1.069676</td>\n",
              "      <td>-0.689478</td>\n",
              "      <td>-0.657580</td>\n",
              "      <td>-1.181036</td>\n",
              "      <td>0.957521</td>\n",
              "      <td>0.831053</td>\n",
              "      <td>-0.079571</td>\n",
              "      <td>1</td>\n",
              "    </tr>\n",
              "    <tr>\n",
              "      <th>1</th>\n",
              "      <td>-1.915313</td>\n",
              "      <td>0.681005</td>\n",
              "      <td>1.002577</td>\n",
              "      <td>-0.092738</td>\n",
              "      <td>1.633471</td>\n",
              "      <td>-0.696631</td>\n",
              "      <td>2.122573</td>\n",
              "      <td>-2.274579</td>\n",
              "      <td>-0.714429</td>\n",
              "      <td>-0.512922</td>\n",
              "      <td>...</td>\n",
              "      <td>-0.583232</td>\n",
              "      <td>1.072613</td>\n",
              "      <td>-1.069676</td>\n",
              "      <td>-0.689478</td>\n",
              "      <td>-0.657580</td>\n",
              "      <td>-1.181036</td>\n",
              "      <td>-1.833784</td>\n",
              "      <td>0.015387</td>\n",
              "      <td>1.863634</td>\n",
              "      <td>1</td>\n",
              "    </tr>\n",
              "    <tr>\n",
              "      <th>2</th>\n",
              "      <td>-1.474158</td>\n",
              "      <td>-1.468418</td>\n",
              "      <td>0.032031</td>\n",
              "      <td>-0.092738</td>\n",
              "      <td>0.977514</td>\n",
              "      <td>-0.696631</td>\n",
              "      <td>0.310912</td>\n",
              "      <td>0.976352</td>\n",
              "      <td>-0.714429</td>\n",
              "      <td>-0.512922</td>\n",
              "      <td>...</td>\n",
              "      <td>-0.583232</td>\n",
              "      <td>0.765144</td>\n",
              "      <td>1.336456</td>\n",
              "      <td>-0.689478</td>\n",
              "      <td>-0.657580</td>\n",
              "      <td>1.237773</td>\n",
              "      <td>-1.446289</td>\n",
              "      <td>0.015387</td>\n",
              "      <td>1.016397</td>\n",
              "      <td>1</td>\n",
              "    </tr>\n",
              "    <tr>\n",
              "      <th>3</th>\n",
              "      <td>0.180175</td>\n",
              "      <td>0.681005</td>\n",
              "      <td>0.032031</td>\n",
              "      <td>-0.663867</td>\n",
              "      <td>1.239897</td>\n",
              "      <td>-0.696631</td>\n",
              "      <td>-0.206705</td>\n",
              "      <td>0.976352</td>\n",
              "      <td>-0.714429</td>\n",
              "      <td>-0.512922</td>\n",
              "      <td>...</td>\n",
              "      <td>-0.583232</td>\n",
              "      <td>0.778489</td>\n",
              "      <td>0.833820</td>\n",
              "      <td>-0.689478</td>\n",
              "      <td>-0.657580</td>\n",
              "      <td>0.962279</td>\n",
              "      <td>0.150298</td>\n",
              "      <td>-0.623201</td>\n",
              "      <td>1.345640</td>\n",
              "      <td>1</td>\n",
              "    </tr>\n",
              "    <tr>\n",
              "      <th>4</th>\n",
              "      <td>0.290464</td>\n",
              "      <td>-1.468418</td>\n",
              "      <td>-0.938515</td>\n",
              "      <td>-0.663867</td>\n",
              "      <td>0.583939</td>\n",
              "      <td>1.435481</td>\n",
              "      <td>-0.379244</td>\n",
              "      <td>0.976352</td>\n",
              "      <td>-0.714429</td>\n",
              "      <td>-0.512922</td>\n",
              "      <td>...</td>\n",
              "      <td>-0.583232</td>\n",
              "      <td>-1.051102</td>\n",
              "      <td>0.573965</td>\n",
              "      <td>1.393998</td>\n",
              "      <td>-0.657580</td>\n",
              "      <td>0.775146</td>\n",
              "      <td>0.263498</td>\n",
              "      <td>-0.623201</td>\n",
              "      <td>0.546831</td>\n",
              "      <td>1</td>\n",
              "    </tr>\n",
              "    <tr>\n",
              "      <th>...</th>\n",
              "      <td>...</td>\n",
              "      <td>...</td>\n",
              "      <td>...</td>\n",
              "      <td>...</td>\n",
              "      <td>...</td>\n",
              "      <td>...</td>\n",
              "      <td>...</td>\n",
              "      <td>...</td>\n",
              "      <td>...</td>\n",
              "      <td>...</td>\n",
              "      <td>...</td>\n",
              "      <td>...</td>\n",
              "      <td>...</td>\n",
              "      <td>...</td>\n",
              "      <td>...</td>\n",
              "      <td>...</td>\n",
              "      <td>...</td>\n",
              "      <td>...</td>\n",
              "      <td>...</td>\n",
              "      <td>...</td>\n",
              "      <td>...</td>\n",
              "    </tr>\n",
              "    <tr>\n",
              "      <th>278</th>\n",
              "      <td>0.290464</td>\n",
              "      <td>-1.468418</td>\n",
              "      <td>-0.938515</td>\n",
              "      <td>0.478391</td>\n",
              "      <td>-1.165281</td>\n",
              "      <td>1.435481</td>\n",
              "      <td>-0.724323</td>\n",
              "      <td>-0.649113</td>\n",
              "      <td>-0.714429</td>\n",
              "      <td>1.123029</td>\n",
              "      <td>...</td>\n",
              "      <td>1.176072</td>\n",
              "      <td>-1.051102</td>\n",
              "      <td>-0.618479</td>\n",
              "      <td>1.521267</td>\n",
              "      <td>-0.657580</td>\n",
              "      <td>-0.118286</td>\n",
              "      <td>0.263498</td>\n",
              "      <td>0.575627</td>\n",
              "      <td>-1.182579</td>\n",
              "      <td>0</td>\n",
              "    </tr>\n",
              "    <tr>\n",
              "      <th>279</th>\n",
              "      <td>-1.033002</td>\n",
              "      <td>0.681005</td>\n",
              "      <td>1.973123</td>\n",
              "      <td>-1.234996</td>\n",
              "      <td>-0.771706</td>\n",
              "      <td>-0.696631</td>\n",
              "      <td>0.138373</td>\n",
              "      <td>-0.649113</td>\n",
              "      <td>-0.714429</td>\n",
              "      <td>1.123029</td>\n",
              "      <td>...</td>\n",
              "      <td>1.176072</td>\n",
              "      <td>1.095660</td>\n",
              "      <td>0.573965</td>\n",
              "      <td>-0.689478</td>\n",
              "      <td>-0.657580</td>\n",
              "      <td>0.673588</td>\n",
              "      <td>-1.041091</td>\n",
              "      <td>-1.359643</td>\n",
              "      <td>-0.844774</td>\n",
              "      <td>0</td>\n",
              "    </tr>\n",
              "    <tr>\n",
              "      <th>280</th>\n",
              "      <td>1.503641</td>\n",
              "      <td>0.681005</td>\n",
              "      <td>-0.938515</td>\n",
              "      <td>0.706843</td>\n",
              "      <td>-0.378132</td>\n",
              "      <td>-0.696631</td>\n",
              "      <td>2.036303</td>\n",
              "      <td>-0.649113</td>\n",
              "      <td>1.244593</td>\n",
              "      <td>1.123029</td>\n",
              "      <td>...</td>\n",
              "      <td>1.176072</td>\n",
              "      <td>-1.051102</td>\n",
              "      <td>1.502221</td>\n",
              "      <td>-0.689478</td>\n",
              "      <td>1.785865</td>\n",
              "      <td>1.235300</td>\n",
              "      <td>1.553631</td>\n",
              "      <td>0.781167</td>\n",
              "      <td>-0.477062</td>\n",
              "      <td>0</td>\n",
              "    </tr>\n",
              "    <tr>\n",
              "      <th>281</th>\n",
              "      <td>0.290464</td>\n",
              "      <td>0.681005</td>\n",
              "      <td>-0.938515</td>\n",
              "      <td>-0.092738</td>\n",
              "      <td>-1.515125</td>\n",
              "      <td>1.435481</td>\n",
              "      <td>0.138373</td>\n",
              "      <td>-0.649113</td>\n",
              "      <td>0.265082</td>\n",
              "      <td>1.123029</td>\n",
              "      <td>...</td>\n",
              "      <td>1.176072</td>\n",
              "      <td>-1.051102</td>\n",
              "      <td>0.573965</td>\n",
              "      <td>1.521267</td>\n",
              "      <td>1.328262</td>\n",
              "      <td>0.608551</td>\n",
              "      <td>0.263498</td>\n",
              "      <td>0.015387</td>\n",
              "      <td>-1.457678</td>\n",
              "      <td>0</td>\n",
              "    </tr>\n",
              "    <tr>\n",
              "      <th>282</th>\n",
              "      <td>0.290464</td>\n",
              "      <td>-1.468418</td>\n",
              "      <td>0.032031</td>\n",
              "      <td>-0.092738</td>\n",
              "      <td>1.064975</td>\n",
              "      <td>-0.696631</td>\n",
              "      <td>-0.896862</td>\n",
              "      <td>-0.649113</td>\n",
              "      <td>0.265082</td>\n",
              "      <td>-0.512922</td>\n",
              "      <td>...</td>\n",
              "      <td>-0.583232</td>\n",
              "      <td>0.769641</td>\n",
              "      <td>-1.069676</td>\n",
              "      <td>-0.689478</td>\n",
              "      <td>-0.657580</td>\n",
              "      <td>-1.181036</td>\n",
              "      <td>0.263498</td>\n",
              "      <td>0.015387</td>\n",
              "      <td>1.124709</td>\n",
              "      <td>0</td>\n",
              "    </tr>\n",
              "  </tbody>\n",
              "</table>\n",
              "<p>283 rows × 38 columns</p>\n",
              "</div>"
            ],
            "text/plain": [
              "     age_scaled  sex_scaled  cp_scaled  trestbps_scaled  thalach_scaled  \\\n",
              "0      0.952197    0.681005   1.973123         0.763956        0.015443   \n",
              "1     -1.915313    0.681005   1.002577        -0.092738        1.633471   \n",
              "2     -1.474158   -1.468418   0.032031        -0.092738        0.977514   \n",
              "3      0.180175    0.681005   0.032031        -0.663867        1.239897   \n",
              "4      0.290464   -1.468418  -0.938515        -0.663867        0.583939   \n",
              "..          ...         ...        ...              ...             ...   \n",
              "278    0.290464   -1.468418  -0.938515         0.478391       -1.165281   \n",
              "279   -1.033002    0.681005   1.973123        -1.234996       -0.771706   \n",
              "280    1.503641    0.681005  -0.938515         0.706843       -0.378132   \n",
              "281    0.290464    0.681005  -0.938515        -0.092738       -1.515125   \n",
              "282    0.290464   -1.468418   0.032031        -0.092738        1.064975   \n",
              "\n",
              "     exang_scaled  oldpeak_scaled  slope_scaled  ca_scaled  thal_scaled  ...  \\\n",
              "0       -0.696631        1.087338     -2.274579  -0.714429    -2.148873  ...   \n",
              "1       -0.696631        2.122573     -2.274579  -0.714429    -0.512922  ...   \n",
              "2       -0.696631        0.310912      0.976352  -0.714429    -0.512922  ...   \n",
              "3       -0.696631       -0.206705      0.976352  -0.714429    -0.512922  ...   \n",
              "4        1.435481       -0.379244      0.976352  -0.714429    -0.512922  ...   \n",
              "..            ...             ...           ...        ...          ...  ...   \n",
              "278      1.435481       -0.724323     -0.649113  -0.714429     1.123029  ...   \n",
              "279     -0.696631        0.138373     -0.649113  -0.714429     1.123029  ...   \n",
              "280     -0.696631        2.036303     -0.649113   1.244593     1.123029  ...   \n",
              "281      1.435481        0.138373     -0.649113   0.265082     1.123029  ...   \n",
              "282     -0.696631       -0.896862     -0.649113   0.265082    -0.512922  ...   \n",
              "\n",
              "     thal_YJ_transformed  cp/thalach_YJ_transformed  \\\n",
              "0              -1.946718                   1.147413   \n",
              "1              -0.583232                   1.072613   \n",
              "2              -0.583232                   0.765144   \n",
              "3              -0.583232                   0.778489   \n",
              "4              -0.583232                  -1.051102   \n",
              "..                   ...                        ...   \n",
              "278             1.176072                  -1.051102   \n",
              "279             1.176072                   1.095660   \n",
              "280             1.176072                  -1.051102   \n",
              "281             1.176072                  -1.051102   \n",
              "282            -0.583232                   0.769641   \n",
              "\n",
              "     oldpeak/slope_YJ_transformed  exang/thal_YJ_transformed  \\\n",
              "0                       -1.069676                  -0.689478   \n",
              "1                       -1.069676                  -0.689478   \n",
              "2                        1.336456                  -0.689478   \n",
              "3                        0.833820                  -0.689478   \n",
              "4                        0.573965                   1.393998   \n",
              "..                            ...                        ...   \n",
              "278                     -0.618479                   1.521267   \n",
              "279                      0.573965                  -0.689478   \n",
              "280                      1.502221                  -0.689478   \n",
              "281                      0.573965                   1.521267   \n",
              "282                     -1.069676                  -0.689478   \n",
              "\n",
              "     ca/oldpeak_YJ_transformed  thalach/oldpeak/slope_YJ_transformed  \\\n",
              "0                    -0.657580                             -1.181036   \n",
              "1                    -0.657580                             -1.181036   \n",
              "2                    -0.657580                              1.237773   \n",
              "3                    -0.657580                              0.962279   \n",
              "4                    -0.657580                              0.775146   \n",
              "..                         ...                                   ...   \n",
              "278                  -0.657580                             -0.118286   \n",
              "279                  -0.657580                              0.673588   \n",
              "280                   1.785865                              1.235300   \n",
              "281                   1.328262                              0.608551   \n",
              "282                  -0.657580                             -1.181036   \n",
              "\n",
              "     log_age_YJ_transformed  log_trestbps_YJ_transformed  \\\n",
              "0                  0.957521                     0.831053   \n",
              "1                 -1.833784                     0.015387   \n",
              "2                 -1.446289                     0.015387   \n",
              "3                  0.150298                    -0.623201   \n",
              "4                  0.263498                    -0.623201   \n",
              "..                      ...                          ...   \n",
              "278                0.263498                     0.575627   \n",
              "279               -1.041091                    -1.359643   \n",
              "280                1.553631                     0.781167   \n",
              "281                0.263498                     0.015387   \n",
              "282                0.263498                     0.015387   \n",
              "\n",
              "     log_thalach_YJ_transformed  target  \n",
              "0                     -0.079571       1  \n",
              "1                      1.863634       1  \n",
              "2                      1.016397       1  \n",
              "3                      1.345640       1  \n",
              "4                      0.546831       1  \n",
              "..                          ...     ...  \n",
              "278                   -1.182579       0  \n",
              "279                   -0.844774       0  \n",
              "280                   -0.477062       0  \n",
              "281                   -1.457678       0  \n",
              "282                    1.124709       0  \n",
              "\n",
              "[283 rows x 38 columns]"
            ]
          },
          "execution_count": 15,
          "metadata": {},
          "output_type": "execute_result"
        }
      ],
      "source": [
        "class_data = pd.read_csv('heart_updated.csv')\n",
        "class_data"
      ]
    },
    {
      "cell_type": "code",
      "execution_count": 16,
      "metadata": {
        "id": "oOF0IbmA0t1H"
      },
      "outputs": [],
      "source": [
        "X_class = class_data.drop(columns=['target'])\n",
        "y_class = class_data['target']\n",
        "X_class_train, X_class_test, y_class_train, y_class_test = train_test_split(X_class, y_class, test_size=0.2, random_state=42)"
      ]
    },
    {
      "cell_type": "markdown",
      "metadata": {
        "id": "t6IaUoOgSeu4"
      },
      "source": [
        "Проверим различные архитектуры (наборы гиперпараметров) классификатора и выберем лучший:"
      ]
    },
    {
      "cell_type": "code",
      "execution_count": 17,
      "metadata": {
        "id": "WcRfarek1AHK"
      },
      "outputs": [],
      "source": [
        "param_grid_clf = {\n",
        "    'loss': ['perceptron', 'hinge', 'squared_hinge'],\n",
        "    'penalty': ['l1', 'l2', 'elasticnet'],\n",
        "}"
      ]
    },
    {
      "cell_type": "code",
      "execution_count": 20,
      "metadata": {
        "colab": {
          "base_uri": "https://localhost:8080/"
        },
        "id": "Zl1FVMWr3SCI",
        "outputId": "c5bd0114-211c-454c-da34-ad871a7dca1f"
      },
      "outputs": [
        {
          "name": "stdout",
          "output_type": "stream",
          "text": [
            "Лучшие параметры для классификации: {'loss': 'hinge', 'penalty': 'l1'}\n"
          ]
        }
      ],
      "source": [
        "sgd_clf = SGDClassifier(random_state=42)\n",
        "grid_search_clf = GridSearchCV(sgd_clf, param_grid_clf, scoring='accuracy')\n",
        "grid_search_clf.fit(X_class_train, y_class_train)\n",
        "\n",
        "# Лучшие параметры\n",
        "print(\"Лучшие параметры для классификации:\", grid_search_clf.best_params_)"
      ]
    },
    {
      "cell_type": "code",
      "execution_count": 21,
      "metadata": {
        "colab": {
          "base_uri": "https://localhost:8080/"
        },
        "id": "5X70WV6Z3UOy",
        "outputId": "cfe62536-f055-4c38-ac79-d0f87877258e"
      },
      "outputs": [
        {
          "name": "stdout",
          "output_type": "stream",
          "text": [
            "Точность на тестовой выборке: 0.789\n"
          ]
        }
      ],
      "source": [
        "best_classifier = grid_search_clf.best_estimator_\n",
        "y_class_pred = best_classifier.predict(X_class_test)\n",
        "accuracy = accuracy_score(y_class_test, y_class_pred)\n",
        "print(\"Точность на тестовой выборке:\", round(accuracy, 3))"
      ]
    },
    {
      "cell_type": "markdown",
      "metadata": {
        "id": "QpZsIQX-dNSl"
      },
      "source": [
        "Составим тепловую карту параметра `accuracy` для тренировочных данных:"
      ]
    },
    {
      "cell_type": "code",
      "execution_count": 24,
      "metadata": {
        "colab": {
          "base_uri": "https://localhost:8080/",
          "height": 563
        },
        "id": "97V51CltDvuz",
        "outputId": "fe12a146-c2e5-4a68-84da-98255148f756"
      },
      "outputs": [
        {
          "data": {
            "image/png": "[encoded data removed]",
            "text/plain": [
              "<Figure size 800x600 with 2 Axes>"
            ]
          },
          "metadata": {},
          "output_type": "display_data"
        }
      ],
      "source": [
        "# Матрица для хранения результатов\n",
        "accuracy_matrix = pd.DataFrame(index=param_grid_clf['penalty'], columns=param_grid_clf['loss'], dtype=float)\n",
        "\n",
        "# Перебираем параметры и вычисляем accuracy с кросс-валидацией\n",
        "for loss in param_grid_clf['loss']:\n",
        "    for penalty in param_grid_clf['penalty']:\n",
        "        try:\n",
        "            model = SGDClassifier(loss=loss, penalty=penalty, random_state=42)\n",
        "            scores = cross_val_score(model, X_class_train, y_class_train, cv=7, scoring='accuracy')\n",
        "            accuracy_matrix.loc[penalty, loss] = scores.mean()\n",
        "        except Exception as e:\n",
        "            accuracy_matrix.loc[penalty, loss] = np.nan\n",
        "\n",
        "\n",
        "# Визуализация\n",
        "plt.figure(figsize=(8, 6))\n",
        "sns.heatmap(accuracy_matrix, annot=True, fmt='.3f', cmap='Blues', cbar=True)\n",
        "plt.title('Accuracy for training data')\n",
        "plt.xlabel('Loss')\n",
        "plt.ylabel('Penalty')\n",
        "plt.show()"
      ]
    },
    {
      "cell_type": "markdown",
      "metadata": {
        "id": "DehzQdjldiGb"
      },
      "source": [
        "Составим тепловую карту параметра `accuracy` для тестовых данных:"
      ]
    },
    {
      "cell_type": "code",
      "execution_count": 25,
      "metadata": {
        "colab": {
          "base_uri": "https://localhost:8080/",
          "height": 563
        },
        "id": "adKRhgMH5Wiu",
        "outputId": "9537991d-25cb-4c3a-c84c-873525d05be1"
      },
      "outputs": [
        {
          "data": {
            "image/png": "[encoded data removed]",
            "text/plain": [
              "<Figure size 800x600 with 2 Axes>"
            ]
          },
          "metadata": {},
          "output_type": "display_data"
        }
      ],
      "source": [
        "accuracy_matrix = pd.DataFrame(index=param_grid_clf['penalty'], columns=param_grid_clf['loss'], dtype=float)\n",
        "\n",
        "for loss in param_grid_clf['loss']:\n",
        "    for penalty in param_grid_clf['penalty']:\n",
        "          model = SGDClassifier(loss = loss, penalty = penalty, random_state=42)\n",
        "          model.fit(X_class_train, y_class_train)\n",
        "          y_pred = model.predict(X_class_test)\n",
        "          acc = accuracy_score(y_class_test, y_pred)\n",
        "          accuracy_matrix.loc[penalty, loss] = acc\n",
        "\n",
        "plt.figure(figsize=(8, 6))\n",
        "sns.heatmap(accuracy_matrix, annot=True, fmt='.3f', cmap='Blues', cbar=True)\n",
        "plt.title('Accuracy for test data')\n",
        "plt.xlabel('Loss')\n",
        "plt.ylabel('Penalty')\n",
        "plt.show()"
      ]
    },
    {
      "cell_type": "code",
      "execution_count": 26,
      "metadata": {
        "colab": {
          "base_uri": "https://localhost:8080/",
          "height": 465
        },
        "id": "kGyYKsszOwBI",
        "outputId": "e5862b1e-5e8f-45c3-ad06-048e81861d1a"
      },
      "outputs": [
        {
          "data": {
            "image/png": "[encoded data removed]",
            "text/plain": [
              "<Figure size 640x480 with 1 Axes>"
            ]
          },
          "metadata": {},
          "output_type": "display_data"
        },
        {
          "name": "stdout",
          "output_type": "stream",
          "text": [
            "Точность на тестовой выборке: 0.8070\n"
          ]
        }
      ],
      "source": [
        "sgd_clf = SGDClassifier(**grid_search_clf.best_params_, random_state=42)\n",
        "\n",
        "batch_size = 64  # Размер мини-выборки\n",
        "n_epochs = 300  # Количество эпох\n",
        "classes = y_class.unique()  # Уникальные классы в целевой переменной\n",
        "\n",
        "# Мини-выборочная оптимизация\n",
        "acc = []\n",
        "for epoch in range(n_epochs):\n",
        "    for start_idx in range(0, len(X_class_train), batch_size):\n",
        "        end_idx = start_idx + batch_size\n",
        "        X_batch = X_class_train.iloc[start_idx:end_idx]\n",
        "        y_batch = y_class_train.iloc[start_idx:end_idx]\n",
        "\n",
        "        # Обучаем модель на текущей мини-выборке\n",
        "        sgd_clf.partial_fit(X_batch, y_batch, classes=classes)\n",
        "    y_pred = sgd_clf.predict(X_class_test)\n",
        "    acc.append(accuracy_score(y_class_test, y_pred))\n",
        "\n",
        "# Оценка модели\n",
        "plt.plot(acc, color = \"#310062\")\n",
        "plt.ylabel(\"Accuracy\")\n",
        "plt.xlabel(\"Epoch\")\n",
        "plt.grid()\n",
        "plt.show()\n",
        "\n",
        "y_pred = sgd_clf.predict(X_class_test)\n",
        "accuracy = accuracy_score(y_class_test, y_pred)\n",
        "print(f\"Точность на тестовой выборке: {accuracy:.4f}\")"
      ]
    },
    {
      "cell_type": "markdown",
      "metadata": {
        "id": "vWAmrT8IaQin"
      },
      "source": [
        "### Выводы"
      ]
    },
    {
      "cell_type": "markdown",
      "metadata": {},
      "source": [
        "Можно заметить, что лучший результат на тренировочных не может гарантировать лучший результат на тестовых данных, но если добавить батч-нормализацию, то результат значительно улучшается."
      ]
    }
  ],
  "metadata": {
    "colab": {
      "provenance": []
    },
    "kernelspec": {
      "display_name": ".venv",
      "language": "python",
      "name": "python3"
    },
    "language_info": {
      "codemirror_mode": {
        "name": "ipython",
        "version": 3
      },
      "file_extension": ".py",
      "mimetype": "text/x-python",
      "name": "python",
      "nbconvert_exporter": "python",
      "pygments_lexer": "ipython3",
      "version": "3.10.0"
    }
  },
  "nbformat": 4,
  "nbformat_minor": 0
}
